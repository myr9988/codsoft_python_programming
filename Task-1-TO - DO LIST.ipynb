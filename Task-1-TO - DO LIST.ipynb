{
 "cells": [
  {
   "cell_type": "markdown",
   "id": "c8b56ebe",
   "metadata": {},
   "source": [
    "TASK 1\n",
    "\n",
    "#### TO-DO LIST\n",
    "\n",
    "A To-Do List application is a useful project that helps users manage\n",
    "and organize their tasks efficiently. This project aims to create a\n",
    "command-line or GUI-based application using Python, allowing users to create, update, and track their to-do lists."
   ]
  },
  {
   "cell_type": "code",
   "execution_count": 1,
   "id": "d16bba58",
   "metadata": {},
   "outputs": [
    {
     "name": "stdout",
     "output_type": "stream",
     "text": [
      "\n",
      "Options:\n",
      "1. Add Task\n",
      "2. View Tasks\n",
      "3. Mark Task as Completed\n",
      "4. Exit\n",
      "Enter your choice (1/2/3/4): 2\n",
      "To-Do List:\n",
      "\n",
      "Options:\n",
      "1. Add Task\n",
      "2. View Tasks\n",
      "3. Mark Task as Completed\n",
      "4. Exit\n",
      "Enter your choice (1/2/3/4): 3\n",
      "Enter the task index to mark as completed: 4\n",
      "Invalid task index.\n",
      "\n",
      "Options:\n",
      "1. Add Task\n",
      "2. View Tasks\n",
      "3. Mark Task as Completed\n",
      "4. Exit\n",
      "Enter your choice (1/2/3/4): 4\n",
      "Exiting the application.\n"
     ]
    }
   ],
   "source": [
    "class TodoList:\n",
    "    def __init__(self):\n",
    "        self.tasks = []\n",
    "\n",
    "    def add_task(self, task):\n",
    "        self.tasks.append({\"task\": task, \"completed\": False})\n",
    "\n",
    "    def view_tasks(self):\n",
    "        print(\"To-Do List:\")\n",
    "        for idx, task in enumerate(self.tasks, start=1):\n",
    "            status = \"✓\" if task[\"completed\"] else \" \"\n",
    "            print(f\"{idx}. [{status}] {task['task']}\")\n",
    "\n",
    "    def mark_completed(self, task_idx):\n",
    "        if 1 <= task_idx <= len(self.tasks):\n",
    "            self.tasks[task_idx - 1][\"completed\"] = True\n",
    "            print(\"Task marked as completed.\")\n",
    "        else:\n",
    "            print(\"Invalid task index.\")\n",
    "\n",
    "def main():\n",
    "    todo_list = TodoList()\n",
    "\n",
    "    while True:\n",
    "        print(\"\\nOptions:\")\n",
    "        print(\"1. Add Task\")\n",
    "        print(\"2. View Tasks\")\n",
    "        print(\"3. Mark Task as Completed\")\n",
    "        print(\"4. Exit\")\n",
    "\n",
    "        choice = input(\"Enter your choice (1/2/3/4): \")\n",
    "\n",
    "        if choice == \"1\":\n",
    "            task = input(\"Enter the task: \")\n",
    "            todo_list.add_task(task)\n",
    "        elif choice == \"2\":\n",
    "            todo_list.view_tasks()\n",
    "        elif choice == \"3\":\n",
    "            task_idx = int(input(\"Enter the task index to mark as completed: \"))\n",
    "            todo_list.mark_completed(task_idx)\n",
    "        elif choice == \"4\":\n",
    "            print(\"Exiting the application.\")\n",
    "            break\n",
    "        else:\n",
    "            print(\"Invalid choice. Please try again.\")\n",
    "\n",
    "if __name__ == \"__main__\":\n",
    "    main()\n"
   ]
  }
 ],
 "metadata": {
  "kernelspec": {
   "display_name": "Python 3 (ipykernel)",
   "language": "python",
   "name": "python3"
  },
  "language_info": {
   "codemirror_mode": {
    "name": "ipython",
    "version": 3
   },
   "file_extension": ".py",
   "mimetype": "text/x-python",
   "name": "python",
   "nbconvert_exporter": "python",
   "pygments_lexer": "ipython3",
   "version": "3.10.9"
  }
 },
 "nbformat": 4,
 "nbformat_minor": 5
}
