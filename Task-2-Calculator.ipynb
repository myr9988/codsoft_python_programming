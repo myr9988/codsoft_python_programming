{
 "cells": [
  {
   "cell_type": "markdown",
   "id": "c0e95d57",
   "metadata": {},
   "source": [
    "TASK 2\n",
    "\n",
    "#### Calculator\n",
    "\n",
    "Design a simple calculator with basic arithmetic operations.\n",
    "Prompt the user to input two numbers and an operation choice.\n",
    "\n",
    "Perform the calculation and display the result."
   ]
  },
  {
   "cell_type": "code",
   "execution_count": 1,
   "id": "fa06cb31",
   "metadata": {},
   "outputs": [
    {
     "name": "stdout",
     "output_type": "stream",
     "text": [
      "Simple Calculator\n",
      "Operations:\n",
      "1. Add\n",
      "2. Subtract\n",
      "3. Multiply\n",
      "4. Divide\n",
      "Enter the first number: 1\n",
      "Enter the second number: 5\n",
      "Enter operation choice (1/2/3/4): 3\n",
      "Result: 5.0\n"
     ]
    }
   ],
   "source": [
    "def add(x, y):\n",
    "    return x + y\n",
    "\n",
    "def subtract(x, y):\n",
    "    return x - y\n",
    "\n",
    "def multiply(x, y):\n",
    "    return x * y\n",
    "\n",
    "def divide(x, y):\n",
    "    return x / y\n",
    "\n",
    "def calculator():\n",
    "    print(\"Simple Calculator\")\n",
    "    print(\"Operations:\")\n",
    "    print(\"1. Add\")\n",
    "    print(\"2. Subtract\")\n",
    "    print(\"3. Multiply\")\n",
    "    print(\"4. Divide\")\n",
    "\n",
    "    try:\n",
    "        num1 = float(input(\"Enter the first number: \"))\n",
    "        num2 = float(input(\"Enter the second number: \"))\n",
    "        choice = int(input(\"Enter operation choice (1/2/3/4): \"))\n",
    "\n",
    "        if choice == 1:\n",
    "            result = add(num1, num2)\n",
    "        elif choice == 2:\n",
    "            result = subtract(num1, num2)\n",
    "        elif choice == 3:\n",
    "            result = multiply(num1, num2)\n",
    "        elif choice == 4:\n",
    "            result = divide(num1, num2)\n",
    "        else:\n",
    "            print(\"Invalid operation choice.\")\n",
    "            return\n",
    "\n",
    "        print(\"Result:\", result)\n",
    "\n",
    "    except ValueError:\n",
    "        print(\"Invalid input. Please enter valid numbers.\")\n",
    "\n",
    "if __name__ == \"__main__\":\n",
    "    calculator()\n"
   ]
  }
 ],
 "metadata": {
  "kernelspec": {
   "display_name": "Python 3 (ipykernel)",
   "language": "python",
   "name": "python3"
  },
  "language_info": {
   "codemirror_mode": {
    "name": "ipython",
    "version": 3
   },
   "file_extension": ".py",
   "mimetype": "text/x-python",
   "name": "python",
   "nbconvert_exporter": "python",
   "pygments_lexer": "ipython3",
   "version": "3.10.9"
  }
 },
 "nbformat": 4,
 "nbformat_minor": 5
}
