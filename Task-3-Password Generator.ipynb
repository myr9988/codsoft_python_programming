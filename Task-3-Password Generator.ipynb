{
 "cells": [
  {
   "cell_type": "markdown",
   "id": "47c5943d",
   "metadata": {},
   "source": [
    "TASK 3\n",
    "\n",
    "#### Password Generator\n",
    "\n",
    "A password generator is a useful tool that generates strong and\n",
    "\n",
    "random passwords for users. This project aims to create a\n",
    "password generator application using Python, allowing users to\n",
    "\n",
    "specify the length and complexity of the password.\n",
    "\n",
    "User Input: Prompt the user to specify the desired length of the\n",
    "\n",
    "password.\n",
    "\n",
    "Generate Password: Use a combination of random characters to\n",
    "\n",
    "generate a password of the specified length.\n",
    "\n",
    "Display the Password: Print the generated password on the screen."
   ]
  },
  {
   "cell_type": "code",
   "execution_count": 1,
   "id": "4667762a",
   "metadata": {},
   "outputs": [
    {
     "name": "stdout",
     "output_type": "stream",
     "text": [
      "Password Generator\n",
      "Enter the desired length of the password: 4\n",
      "Generated Password: |IF'\n"
     ]
    }
   ],
   "source": [
    "import random\n",
    "import string\n",
    "\n",
    "def generate_password(length):\n",
    "    characters = string.ascii_letters + string.digits + string.punctuation\n",
    "    password = ''.join(random.choice(characters) for _ in range(length))\n",
    "    return password\n",
    "\n",
    "def main():\n",
    "    print(\"Password Generator\")\n",
    "    try:\n",
    "        length = int(input(\"Enter the desired length of the password: \"))\n",
    "        if length <= 0:\n",
    "            print(\"Password length must be greater than zero.\")\n",
    "            return\n",
    "\n",
    "        password = generate_password(length)\n",
    "        print(\"Generated Password:\", password)\n",
    "\n",
    "    except ValueError:\n",
    "        print(\"Invalid input. Please enter a valid integer for the password length.\")\n",
    "\n",
    "if __name__ == \"__main__\":\n",
    "    main()\n"
   ]
  }
 ],
 "metadata": {
  "kernelspec": {
   "display_name": "Python 3 (ipykernel)",
   "language": "python",
   "name": "python3"
  },
  "language_info": {
   "codemirror_mode": {
    "name": "ipython",
    "version": 3
   },
   "file_extension": ".py",
   "mimetype": "text/x-python",
   "name": "python",
   "nbconvert_exporter": "python",
   "pygments_lexer": "ipython3",
   "version": "3.10.9"
  }
 },
 "nbformat": 4,
 "nbformat_minor": 5
}
